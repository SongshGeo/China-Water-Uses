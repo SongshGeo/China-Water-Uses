{
 "cells": [
  {
   "cell_type": "markdown",
   "id": "ee08cd97-71d6-4aea-b511-eab4dd5a7f82",
   "metadata": {},
   "source": [
    "# 条目选择"
   ]
  },
  {
   "cell_type": "code",
   "execution_count": null,
   "id": "00984425-1570-4980-9c92-652be196c688",
   "metadata": {},
   "outputs": [],
   "source": []
  },
  {
   "cell_type": "markdown",
   "id": "35bc5024-1257-456b-bee8-6844208cc8cd",
   "metadata": {},
   "source": [
    "## 条目选择"
   ]
  },
  {
   "cell_type": "code",
   "execution_count": null,
   "id": "4d576172-569e-4d36-b9bc-85ffb924f899",
   "metadata": {
    "tags": []
   },
   "outputs": [],
   "source": [
    "[f\"Irrigation WU: {crop}\" for crop in IRR]"
   ]
  },
  {
   "cell_type": "code",
   "execution_count": null,
   "id": "6b96b83b-14f7-4990-86fb-ff53a91da71f",
   "metadata": {
    "tags": []
   },
   "outputs": [],
   "source": [
    "from src.constants import *"
   ]
  },
  {
   "cell_type": "code",
   "execution_count": null,
   "id": "d4240296-61ef-4ec0-a74b-52375e6e8733",
   "metadata": {
    "tags": []
   },
   "outputs": [],
   "source": [
    "(data[].sum(axis=1) / 1e5).round(5) == data['IRR'].round(5)"
   ]
  },
  {
   "cell_type": "code",
   "execution_count": null,
   "id": "f77f343f-651c-4ff5-80ca-e6fb3004280d",
   "metadata": {
    "tags": []
   },
   "outputs": [],
   "source": [
    "(data[[f\"Industrial WU: {ind}\" for ind in IND]].sum(axis=1)).round(5) == data[\n",
    "    \"IND\"\n",
    "].round(5)"
   ]
  },
  {
   "cell_type": "code",
   "execution_count": null,
   "id": "f837adef-ffbe-4801-a51e-3c9738058f18",
   "metadata": {
    "tags": []
   },
   "outputs": [],
   "source": [
    "len(select_items())"
   ]
  },
  {
   "cell_type": "code",
   "execution_count": null,
   "id": "cde21b86-a7f4-4d8d-b945-a176508ea9d7",
   "metadata": {
    "tags": []
   },
   "outputs": [],
   "source": [
    "for col in data:\n",
    "    if col not in select_items():\n",
    "        col"
   ]
  }
 ],
 "metadata": {
  "kernelspec": {
   "display_name": "Python 3 (ipykernel)",
   "language": "python",
   "name": "python3"
  },
  "language_info": {
   "codemirror_mode": {
    "name": "ipython",
    "version": 3
   },
   "file_extension": ".py",
   "mimetype": "text/x-python",
   "name": "python",
   "nbconvert_exporter": "python",
   "pygments_lexer": "ipython3",
   "version": "3.11.2"
  }
 },
 "nbformat": 4,
 "nbformat_minor": 5
}
