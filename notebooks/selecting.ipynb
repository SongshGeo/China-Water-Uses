{
 "cells": [
  {
   "cell_type": "markdown",
   "id": "35bc5024-1257-456b-bee8-6844208cc8cd",
   "metadata": {},
   "source": [
    "# 条目选择"
   ]
  },
  {
   "cell_type": "code",
   "execution_count": null,
   "id": "00984425-1570-4980-9c92-652be196c688",
   "metadata": {
    "tags": []
   },
   "outputs": [],
   "source": [
    "%load_ext autoreload\n",
    "%autoreload 2\n",
    "%matplotlib inline\n",
    "%config InlineBackend.figure_format = 'retina'\n",
    "from IPython.core.interactiveshell import InteractiveShell\n",
    "\n",
    "InteractiveShell.ast_node_interactivity = \"all\"\n",
    "\n",
    "import pandas as pd\n",
    "from src.constants import *\n",
    "import os\n",
    "\n",
    "os.chdir(\"..\")"
   ]
  },
  {
   "cell_type": "code",
   "execution_count": null,
   "id": "bcf0d5f7-5b7b-4674-abfd-6e4cfbe436d8",
   "metadata": {
    "tags": []
   },
   "outputs": [],
   "source": [
    "from src.core import ChineseWater\n",
    "\n",
    "cw = ChineseWater()\n",
    "cw.origin.head()"
   ]
  },
  {
   "cell_type": "code",
   "execution_count": null,
   "id": "db69ce7c-0be7-4157-9183-e07c9fbf752a",
   "metadata": {
    "tags": []
   },
   "outputs": [],
   "source": [
    "cw.update_scope(\"Year\", 2000)"
   ]
  },
  {
   "cell_type": "code",
   "execution_count": null,
   "id": "47a1539f-786f-411c-a104-647a02bbd98f",
   "metadata": {
    "tags": []
   },
   "outputs": [],
   "source": [
    "cw.scaled_plots(col=\"Industrial WU: Papermaking\")"
   ]
  },
  {
   "cell_type": "code",
   "execution_count": null,
   "id": "af500495-7011-447f-9e3b-a4353a952974",
   "metadata": {
    "tags": []
   },
   "outputs": [],
   "source": [
    "YR = [\n",
    "    \"Qinghai\",\n",
    "    \"Gansu\",\n",
    "    \"Neimeng\",\n",
    "    \"Ningxia\",\n",
    "    \"Shanxi\",\n",
    "    \"Shaanxi\",\n",
    "    \"Henan\",\n",
    "    \"Shandong\",\n",
    "]\n",
    "cities = cw.update_scope(\"Province_n\", YR)\n",
    "wui = cw.update_scope(\"measurements\", \"WUI\")\n",
    "sectors = cw.update_scope(\"sectors\", \"IRR\")\n",
    "cw.data.head()"
   ]
  },
  {
   "cell_type": "code",
   "execution_count": null,
   "id": "73b43cda-8f48-40f1-8d78-24d12cc7ba0a",
   "metadata": {
    "tags": []
   },
   "outputs": [],
   "source": [
    "cw.scaled_plots(\"Irrigation water-use intensity (WUI): Maize\")"
   ]
  },
  {
   "cell_type": "code",
   "execution_count": null,
   "id": "9386f63d-852d-467e-b368-2020625426e5",
   "metadata": {
    "tags": []
   },
   "outputs": [],
   "source": []
  }
 ],
 "metadata": {
  "kernelspec": {
   "display_name": "Python 3 (ipykernel)",
   "language": "python",
   "name": "python3"
  },
  "language_info": {
   "codemirror_mode": {
    "name": "ipython",
    "version": 3
   },
   "file_extension": ".py",
   "mimetype": "text/x-python",
   "name": "python",
   "nbconvert_exporter": "python",
   "pygments_lexer": "ipython3",
   "version": "3.11.2"
  }
 },
 "nbformat": 4,
 "nbformat_minor": 5
}
