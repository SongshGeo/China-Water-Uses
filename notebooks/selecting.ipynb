{
 "cells": [
  {
   "cell_type": "markdown",
   "id": "35bc5024-1257-456b-bee8-6844208cc8cd",
   "metadata": {},
   "source": [
    "# 条目选择"
   ]
  },
  {
   "cell_type": "code",
   "execution_count": null,
   "id": "00984425-1570-4980-9c92-652be196c688",
   "metadata": {
    "tags": []
   },
   "outputs": [],
   "source": [
    "%load_ext autoreload\n",
    "%autoreload 2\n",
    "%matplotlib inline\n",
    "%config InlineBackend.figure_format = 'retina'\n",
    "from IPython.core.interactiveshell import InteractiveShell\n",
    "\n",
    "InteractiveShell.ast_node_interactivity = \"all\"\n",
    "\n",
    "import pandas as pd\n",
    "from src.constants import *\n",
    "import os\n",
    "\n",
    "os.chdir(\"..\")"
   ]
  },
  {
   "cell_type": "code",
   "execution_count": null,
   "id": "bcf0d5f7-5b7b-4674-abfd-6e4cfbe436d8",
   "metadata": {
    "tags": []
   },
   "outputs": [],
   "source": [
    "from src.core import ChineseWater\n",
    "\n",
    "cw = ChineseWater()\n",
    "cw.origin.head()"
   ]
  },
  {
   "cell_type": "code",
   "execution_count": null,
   "id": "db69ce7c-0be7-4157-9183-e07c9fbf752a",
   "metadata": {
    "tags": []
   },
   "outputs": [],
   "source": [
    "cw.update_scope(\"sectors\", \"IRR\")"
   ]
  },
  {
   "cell_type": "code",
   "execution_count": null,
   "id": "47a1539f-786f-411c-a104-647a02bbd98f",
   "metadata": {
    "tags": []
   },
   "outputs": [],
   "source": [
    "cw.measurements\n",
    "cw.sectors"
   ]
  },
  {
   "cell_type": "code",
   "execution_count": null,
   "id": "7d3529e9-6510-4758-803b-2dc9574f52a6",
   "metadata": {
    "tags": []
   },
   "outputs": [],
   "source": [
    "cw.time"
   ]
  },
  {
   "cell_type": "code",
   "execution_count": null,
   "id": "9f8ca862-25c3-4b0c-8623-83350d9da41b",
   "metadata": {
    "tags": []
   },
   "outputs": [],
   "source": [
    "cw.update_scope(\"Year\", list(range(1966, 1978)))"
   ]
  },
  {
   "cell_type": "code",
   "execution_count": null,
   "id": "0be45abe-734d-4a0c-ae59-51050703fd5d",
   "metadata": {
    "tags": []
   },
   "outputs": [],
   "source": [
    "cw.data"
   ]
  },
  {
   "cell_type": "code",
   "execution_count": null,
   "id": "6fc8b44b-2337-4b26-86ee-447f647bd2b1",
   "metadata": {
    "tags": []
   },
   "outputs": [],
   "source": [
    "cw.update_scope(\"Province_n\", [\"Anhui\", \"Chongqing\"])"
   ]
  },
  {
   "cell_type": "code",
   "execution_count": null,
   "id": "0c60c4b7-764d-43c1-9b14-e3de63cbf464",
   "metadata": {
    "tags": []
   },
   "outputs": [],
   "source": [
    "cw.data"
   ]
  }
 ],
 "metadata": {
  "kernelspec": {
   "display_name": "Python 3 (ipykernel)",
   "language": "python",
   "name": "python3"
  },
  "language_info": {
   "codemirror_mode": {
    "name": "ipython",
    "version": 3
   },
   "file_extension": ".py",
   "mimetype": "text/x-python",
   "name": "python",
   "nbconvert_exporter": "python",
   "pygments_lexer": "ipython3",
   "version": "3.11.2"
  }
 },
 "nbformat": 4,
 "nbformat_minor": 5
}
