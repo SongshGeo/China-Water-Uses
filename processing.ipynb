{
 "cells": [
  {
   "cell_type": "markdown",
   "id": "7cb60c74-eb96-4f45-a259-46fde0297107",
   "metadata": {},
   "source": [
    "# Data Processing"
   ]
  },
  {
   "cell_type": "code",
   "execution_count": null,
   "id": "0e729dc5-098f-47d5-8dab-0be68e58d9f6",
   "metadata": {
    "tags": []
   },
   "outputs": [],
   "source": [
    "%load_ext autoreload\n",
    "%autoreload 2\n",
    "%matplotlib inline\n",
    "%config InlineBackend.figure_format = 'retina'\n",
    "from IPython.core.interactiveshell import InteractiveShell\n",
    "\n",
    "InteractiveShell.ast_node_interactivity = \"all\"\n",
    "\n",
    "import pandas as pd"
   ]
  },
  {
   "cell_type": "markdown",
   "id": "9dd87d3e-c318-4f61-a6cc-2d80810e0101",
   "metadata": {},
   "source": [
    "## 原始数据处理"
   ]
  },
  {
   "cell_type": "code",
   "execution_count": null,
   "id": "1972b448-d73d-451c-b55f-44bb719a3862",
   "metadata": {
    "tags": []
   },
   "outputs": [],
   "source": [
    "# water use values data and some economic factors\n",
    "values_data = pd.read_excel(\"data/Zhou et al_2020_PNAS_dataset.xlsx\", sheet_name=\"D1\")\n",
    "values_data = values_data.dropna(axis=1, how=\"all\")\n",
    "\n",
    "# 清洗数据的头部，让两行头部变一行\n",
    "change_name_dic = {}\n",
    "last_item = \"None\"\n",
    "for col in values_data:\n",
    "    second_row = values_data.loc[0, col]\n",
    "    if \"Unnamed\" in col:\n",
    "        change_name_dic[col] = last_item + \": \" + second_row\n",
    "    else:\n",
    "        if type(second_row) is str:\n",
    "            change_name_dic[col] = col + \": \" + second_row\n",
    "        last_item = col\n",
    "\n",
    "values_data.rename(change_name_dic, axis=1, inplace=True)\n",
    "values_data = values_data.drop(0)\n",
    "\n",
    "# 重命名表头，取消两边的空格\n",
    "values_data.rename({col: col.strip() for col in values_data}, axis=1, inplace=True)\n",
    "\n",
    "# 更改正确的数据类型\n",
    "values_data = values_data.astype(float, errors=\"ignore\")\n",
    "values_data[\"Year\"] = values_data[\"Year\"].astype(int)\n",
    "values_data.iloc[:, 2:] = values_data.iloc[:, 2:].astype(float)\n",
    "\n",
    "# 整合省份数据\n",
    "perfectures = pd.read_csv(\"data/perfectures.csv\").drop([\"FID\"], axis=1)\n",
    "values_data = pd.merge(\n",
    "    left=values_data,\n",
    "    right=perfectures,\n",
    "    left_on=\"City_ID\",\n",
    "    right_on=\"Perfecture\",\n",
    "    right_index=False,\n",
    ")\n",
    "# values_data = values_data.replace(\"Neimeng\", \"Inner Mongolia\")\n",
    "\n",
    "values_data.head()\n",
    "values_data.to_csv(\"src/data/values_data.csv\")"
   ]
  },
  {
   "cell_type": "markdown",
   "id": "c4424b18-90cd-45d5-9a4a-96b5ad9d2d35",
   "metadata": {},
   "source": [
    "**Analysis:**\n",
    "这个数据级我们相对比较熟悉了，主要包括了：\n",
    "- 农业灌溉面积（包括总的，和各种作物的面积）以及每个种植作物的单位面积耗水量（通过作物耗水量计算得出）\n",
    "- 多种工业的总产值（GVA），已经是去通货膨胀之后的数据，可以直接用，还有每个产业的单位产出用水量，也是通过水量计算得出的\n",
    "- 城市居民用水、城市人口\n",
    "- 农村居民用水、农村人口\n",
    "- 农村牲畜\n",
    "- 城市服务业产出"
   ]
  },
  {
   "cell_type": "markdown",
   "id": "3c2f3348-3e83-47dc-9133-06572747a91d",
   "metadata": {},
   "source": [
    "## 字段处理"
   ]
  },
  {
   "cell_type": "code",
   "execution_count": null,
   "id": "104ad234-c0b3-49ae-91e9-1ef881052278",
   "metadata": {
    "tags": []
   },
   "outputs": [],
   "source": [
    "from src.\n",
    "fields = values_data.columns.to_frame()\n",
    "fields['short_name'] = fields[0]."
   ]
  },
  {
   "cell_type": "code",
   "execution_count": null,
   "id": "347ee4eb-e4e7-465a-ac3a-e6d9ca3fed04",
   "metadata": {},
   "outputs": [],
   "source": [
    "fields.to_csv(\"src/data/fields.csv\")"
   ]
  }
 ],
 "metadata": {
  "kernelspec": {
   "display_name": "Python 3 (ipykernel)",
   "language": "python",
   "name": "python3"
  },
  "language_info": {
   "codemirror_mode": {
    "name": "ipython",
    "version": 3
   },
   "file_extension": ".py",
   "mimetype": "text/x-python",
   "name": "python",
   "nbconvert_exporter": "python",
   "pygments_lexer": "ipython3",
   "version": "3.11.2"
  }
 },
 "nbformat": 4,
 "nbformat_minor": 5
}
